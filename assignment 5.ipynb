{
 "cells": [
  {
   "cell_type": "code",
   "execution_count": 1,
   "id": "bfd44a81-8e90-4977-a4f8-0b3c1f8b6cee",
   "metadata": {},
   "outputs": [],
   "source": [
    "#Answer 1"
   ]
  },
  {
   "cell_type": "code",
   "execution_count": 1,
   "id": "82a7f4c5-7251-4d4a-88f4-60a253ddd355",
   "metadata": {},
   "outputs": [
    {
     "name": "stdout",
     "output_type": "stream",
     "text": [
      "1\n",
      "2\n",
      "3\n",
      "4\n"
     ]
    }
   ],
   "source": [
    "count = 0\n",
    "while count <= 10:\n",
    "    \n",
    "    count +=1\n",
    "    if count == 5:\n",
    "        break\n",
    "    print(count)"
   ]
  },
  {
   "cell_type": "code",
   "execution_count": null,
   "id": "12eed452-85b7-47fb-b99a-aa510c93e3ea",
   "metadata": {},
   "outputs": [],
   "source": [
    "#Answer 2"
   ]
  },
  {
   "cell_type": "code",
   "execution_count": 2,
   "id": "6972fb1f-2515-4483-b1da-7ba8dcb34ea2",
   "metadata": {},
   "outputs": [
    {
     "name": "stdout",
     "output_type": "stream",
     "text": [
      "Current element: 1\n",
      "Current element: 2\n",
      "Current element: 3\n",
      "Current element: 4\n",
      "Stopping at element: 5\n"
     ]
    }
   ],
   "source": [
    "\n",
    "def stop_at_element(my_list, stop_element):\n",
    "    for element in my_list:\n",
    "        if element == stop_element:\n",
    "            print(f\"Stopping at element: {element}\")\n",
    "            break\n",
    "        print(f\"Current element: {element}\")\n",
    "\n",
    "\n",
    "sample_list = [1, 2, 3, 4, 5, 6, 7, 8, 9, 10]\n",
    "stop_element = 5\n",
    "\n",
    "\n",
    "stop_at_element(sample_list, stop_element)\n"
   ]
  },
  {
   "cell_type": "code",
   "execution_count": 1,
   "id": "2662837f-214b-4f2b-8847-d888801ed389",
   "metadata": {},
   "outputs": [
    {
     "name": "stdout",
     "output_type": "stream",
     "text": [
      "1\n",
      "3\n",
      "5\n",
      "7\n",
      "9\n"
     ]
    }
   ],
   "source": [
    "#Answer 3\n",
    "count = 0\n",
    "while count <10:\n",
    "    count+=1\n",
    "    if count % 2 == 0:\n",
    "        continue\n",
    "    print(count)"
   ]
  },
  {
   "cell_type": "code",
   "execution_count": 2,
   "id": "bc77141c-7e0f-451e-9492-6b7910548a61",
   "metadata": {},
   "outputs": [],
   "source": [
    "#Answer 4"
   ]
  },
  {
   "cell_type": "code",
   "execution_count": 4,
   "id": "613706ea-caa3-4063-a611-a28a9a68ae8e",
   "metadata": {},
   "outputs": [
    {
     "name": "stdout",
     "output_type": "stream",
     "text": [
      "0\n",
      "1\n",
      "2\n",
      "3\n",
      "4\n",
      "5\n",
      "6\n",
      "7\n",
      "8\n",
      "9\n"
     ]
    }
   ],
   "source": [
    "for i in range(10):\n",
    "    print(i)"
   ]
  },
  {
   "cell_type": "code",
   "execution_count": 5,
   "id": "3dbd45d9-75f7-4bef-9554-44e2d0c4a807",
   "metadata": {},
   "outputs": [],
   "source": [
    "#Answer 5"
   ]
  },
  {
   "cell_type": "code",
   "execution_count": 6,
   "id": "2e14298b-7860-44b0-bd95-2b8c5856f33d",
   "metadata": {},
   "outputs": [
    {
     "name": "stdout",
     "output_type": "stream",
     "text": [
      "Multiplication table for 1:\n",
      "1 x 1 = 1\n",
      "1 x 2 = 2\n",
      "1 x 3 = 3\n",
      "1 x 4 = 4\n",
      "1 x 5 = 5\n",
      "1 x 6 = 6\n",
      "1 x 7 = 7\n",
      "1 x 8 = 8\n",
      "1 x 9 = 9\n",
      "1 x 10 = 10\n",
      "\n",
      "Multiplication table for 2:\n",
      "2 x 1 = 2\n",
      "2 x 2 = 4\n",
      "2 x 3 = 6\n",
      "2 x 4 = 8\n",
      "2 x 5 = 10\n",
      "2 x 6 = 12\n",
      "2 x 7 = 14\n",
      "2 x 8 = 16\n",
      "2 x 9 = 18\n",
      "2 x 10 = 20\n",
      "\n",
      "Multiplication table for 3:\n",
      "3 x 1 = 3\n",
      "3 x 2 = 6\n",
      "3 x 3 = 9\n",
      "3 x 4 = 12\n",
      "3 x 5 = 15\n",
      "3 x 6 = 18\n",
      "3 x 7 = 21\n",
      "3 x 8 = 24\n",
      "3 x 9 = 27\n",
      "3 x 10 = 30\n",
      "\n",
      "Multiplication table for 4:\n",
      "4 x 1 = 4\n",
      "4 x 2 = 8\n",
      "4 x 3 = 12\n",
      "4 x 4 = 16\n",
      "4 x 5 = 20\n",
      "4 x 6 = 24\n",
      "4 x 7 = 28\n",
      "4 x 8 = 32\n",
      "4 x 9 = 36\n",
      "4 x 10 = 40\n",
      "\n",
      "Multiplication table for 5:\n",
      "5 x 1 = 5\n",
      "5 x 2 = 10\n",
      "5 x 3 = 15\n",
      "5 x 4 = 20\n",
      "5 x 5 = 25\n",
      "5 x 6 = 30\n",
      "5 x 7 = 35\n",
      "5 x 8 = 40\n",
      "5 x 9 = 45\n",
      "5 x 10 = 50\n",
      "\n"
     ]
    }
   ],
   "source": [
    "\n",
    "def print_multiplication_tables():\n",
    "    for i in range(1, 6):\n",
    "        print(f\"Multiplication table for {i}:\")\n",
    "        for j in range(1, 11):\n",
    "            print(f\"{i} x {j} = {i * j}\")\n",
    "        print()  \n",
    "\n",
    "\n",
    "print_multiplication_tables()\n"
   ]
  },
  {
   "cell_type": "code",
   "execution_count": 7,
   "id": "0f970a7d-75e4-457c-b659-6efca9c685c7",
   "metadata": {},
   "outputs": [],
   "source": [
    "#Answer 6"
   ]
  },
  {
   "cell_type": "code",
   "execution_count": 8,
   "id": "5737df69-b70b-486e-a6a7-6a4b6591c691",
   "metadata": {},
   "outputs": [
    {
     "name": "stdout",
     "output_type": "stream",
     "text": [
      "1\n",
      "3\n",
      "5\n",
      "7\n",
      "9\n"
     ]
    }
   ],
   "source": [
    "\n",
    "number = 0\n",
    "\n",
    "\n",
    "while number <= 10:\n",
    "    if number % 2 == 0:\n",
    "        number += 1\n",
    "        continue\n",
    "    print(number)\n",
    "    number += 1\n"
   ]
  },
  {
   "cell_type": "code",
   "execution_count": null,
   "id": "2ed88d69-e0e8-415f-a5e3-5a245395c39f",
   "metadata": {},
   "outputs": [],
   "source": []
  }
 ],
 "metadata": {
  "kernelspec": {
   "display_name": "Python 3 (ipykernel)",
   "language": "python",
   "name": "python3"
  },
  "language_info": {
   "codemirror_mode": {
    "name": "ipython",
    "version": 3
   },
   "file_extension": ".py",
   "mimetype": "text/x-python",
   "name": "python",
   "nbconvert_exporter": "python",
   "pygments_lexer": "ipython3",
   "version": "3.10.8"
  }
 },
 "nbformat": 4,
 "nbformat_minor": 5
}
